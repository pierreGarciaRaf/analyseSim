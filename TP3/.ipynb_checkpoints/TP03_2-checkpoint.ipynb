{
 "cells": [
  {
   "cell_type": "markdown",
   "metadata": {},
   "source": [
    "# TP n° 3"
   ]
  },
  {
   "cell_type": "markdown",
   "metadata": {},
   "source": [
    "# Deux méthodes de résolution numérique d'un problème de Cauchy\n",
    "$\\newcommand{\\ds}{\\displaystyle}$\n",
    "$\\newcommand{\\R}{{\\mathbb R}}$\n",
    "\n",
    "Nous allons programmer deux méthodes pour construire une solution approchée du problème de Cauchy \n",
    "\\begin{equation}\n",
    "\\left\\lbrace\n",
    "\\begin{aligned}\n",
    "&y'= f(t, y),\\\\\n",
    "&y(0) = y_0.\n",
    "\\end{aligned}\n",
    "\\right.\n",
    "\\tag{1}\\label{1}\n",
    "\\end{equation}\n",
    "\n",
    "On va calculer des valeurs approchées de la solutions aux instants $t^n =n\\Delta t$, où $\\Delta t>0$ est un __pas de temps__ choisi arbitrairement. Pour cela on part de la formule, valable pour toute fonction $y$ de classe $C^1$,\n",
    "\n",
    "\\begin{equation}\n",
    "y(t^{n+1})-y(t^n)=\\int_{t^n}^{t^{n+1}} y'(s) ds\n",
    "\\tag{2}\\label{2}\n",
    "\\end{equation}\n",
    "\n",
    "Ainsi, la fonction $y$, supposée $C^1$, est la solution du problème de Cauchy $\\eqref{1}$ si et seulement si, pour toute suite $(t^n)$, \n",
    "\n",
    "\\begin{equation}\n",
    "\\left\\{\n",
    "\\begin{array}{l}\n",
    "y(t^{n+1})= y(t^n) +\\ds\\int_{t^n}^{t^{n+1}} f(s,y(s)) ds,\\\\\n",
    "y(t^0) = y_0.\n",
    "\\end{array}\n",
    "\\right .\n",
    "\\tag{3}\\label{3}\n",
    "\\end{equation}\n",
    "\n",
    "\n",
    "## 1. Méthode d'Euler\n",
    "\n",
    "\n",
    "La méthode d'Euler est basée sur la formule $\\eqref{3}$ et consiste à remplacer l'intégrale \n",
    "par l'approximation:\n",
    "\n",
    "\\begin{equation}\n",
    "\\int_{t^n}^{t^{n+1}} f(s,y(s)) ds\\sim (t^{n+1}-t^n)f(t_n,y(t^n))=\\Delta t f(t_n,y(t^n)).\n",
    "\\tag{4}\\label{4}\n",
    "\\end{equation}\n",
    "\n"
   ]
  },
  {
   "cell_type": "markdown",
   "metadata": {},
   "source": [
    "#### QUESTION 1 \n",
    "\n",
    "A quoi correspond graphiquement cette approximation de $\\ds\\int_a^b g(s) ds$?"
   ]
  },
  {
   "cell_type": "markdown",
   "metadata": {},
   "source": [
    "Cela correspond a l'air "
   ]
  },
  {
   "cell_type": "markdown",
   "metadata": {},
   "source": [
    "#### QUESTION 2\n",
    "\n",
    "Programmer la méthode d'Euler afin de calculer la solution approchée d'un problème de Cauchy scalaire ( i.e. où l'inconnue est à valeurs dans $\\R$) générique. On écrira une fonction euler(f, y_0, T, Delta_t) qui renvoie deux tableaux : t, constitué des instants 0, Delta_t, 2Delta_t,..., T et y, constitué des valeurs de la solution approchée en ces instants.\n",
    "\n",
    "Tester votre méthode sur l'équation de Malthus, en représentant la solution et plusieurs solutions approchées (pour différents pas de temps) sur le même graphique."
   ]
  },
  {
   "cell_type": "code",
   "execution_count": null,
   "metadata": {},
   "outputs": [],
   "source": [
    "# Votre réponse\n",
    "\n",
    "%matplotlib notebook   # pour jupyter notebook\n",
    "# %matplotlib widgets  # pour jupyter lab\n",
    "\n",
    "import numpy as np\n",
    "import matplotlib.pyplot as plt\n",
    "\n",
    "\n",
    "def euler(f, y_0, T, Delta_t):\n",
    "    \"\"\"\n",
    "    schéma d'Euler explicite pour résoudre y'=f(t,y) sur [0,T] avec y(0)=y_0\n",
    "    entrées: f, y_0, T et le pas Delta_t\n",
    "    sorties: t, y_app\n",
    "    \"\"\"\n",
    "    t = ...;\n",
    "    N = ...;\n",
    "    y = np.zeros(N); \n",
    "    y[0]=...;\n",
    "    for s in ...:\n",
    "        y[s+1]= ...\n",
    "    return t,y\n",
    "\n",
    "T = ...\n",
    "Delta_t = ...\n",
    "y_0 = ...\n",
    "r = ...\n",
    "\n",
    "\n",
    "def f(t,x):\n",
    "    ...\n",
    "\n",
    "\n",
    "..."
   ]
  },
  {
   "cell_type": "markdown",
   "metadata": {},
   "source": [
    "### Erreur du schéma\n",
    "\n",
    "\n",
    "Le schéma d'Euler permet de trouver des valeurs approchées $y^n$ aux instants $t^n$ de la valeur $y(t^n)$ de la solution du problème de Cauchy (1). L'erreur du schéma à l'instant $t^n$ est la quantité\n",
    "\n",
    "\\begin{equation}\n",
    "e_n = \\vert y^n -y(t^n)\\vert,\n",
    "\\end{equation}\n",
    "\n",
    "et l'erreur globale du schéma d'Euler est le maximum sur tous les instants de l'erreur locale :\n",
    "\n",
    "\\begin{equation}\n",
    "e=\\max_n e_n.\n",
    "\\end{equation}\n",
    "\n",
    "Ce que l'on espère, c'est que cette erreur $e$ tende vers 0 quand le pas $\\Delta t$ tend vers 0. On dit que le schéma est _convergent_ lorsque c'est le cas."
   ]
  },
  {
   "cell_type": "markdown",
   "metadata": {},
   "source": [
    "#### QUESTION 3\n",
    "\n",
    "Pour l'équation de Malthus ci-dessus, calculer les erreurs globales du schéma d'Euler pour différentes valeurs de $\\Delta t$. Ce schéma vous semble-t-il convergent ?"
   ]
  },
  {
   "cell_type": "markdown",
   "metadata": {},
   "source": [
    "#### QUESTION 4\n",
    "Pour un schéma convergent, on souhaite que la convergence vers la solution exacte soit le plus rapide possible. On dit qu'un schéma est d'ordre $p$ lorsque $e=O((\\Delta t)^p)$ quand $\\Delta t\\to 0$ (pour les fonctions $f$ régulières).\n",
    "\n",
    "Estimer l'ordre de convergence apparent du schéma d'Euler pour l'équation de Malthus (on pourra tracer\n",
    "$\\log e/\\log \\Delta t$)."
   ]
  },
  {
   "cell_type": "markdown",
   "metadata": {},
   "source": [
    "#### QUESTION 5\n",
    " \n",
    "Appliquer ce schéma à la résolution numérique du problème de Verhulst ($r=2$, $K=1$ par exemple,  comme dans le TP1).\n",
    "On prend $y_0=0.1$ et on veut résoudre le problème entre $t=0$ et $t=T_f=20$. Prenez des valeurs de Delta_t entre 1 et 0.2. Que remarquez-vous?"
   ]
  },
  {
   "cell_type": "markdown",
   "metadata": {},
   "source": [
    "#### QUESTION 6\n",
    "\n",
    "On prend maintenant quelques pas de temps inférieurs à 0.1. Tracer des solutions approchées ainsi que la solution exacte dans une fenêtre graphique. \n",
    "\n",
    "Vérifier graphiquement que la solution approchée converge bien vers la solution exacte, par exemple en divisant le pas de temps par 2 plusieurs fois. On se focalisera sur l'intervalle [0,2]."
   ]
  },
  {
   "cell_type": "markdown",
   "metadata": {},
   "source": [
    "#### QUESTION 7\n",
    "\n",
    "Calculer l'erreur globale apparente du schéma d'Euler pour l'équation de Verhulst. Estimer l'ordre de convergence apparent du schéma d'Euler pour l'équation de Verhulst."
   ]
  },
  {
   "cell_type": "markdown",
   "metadata": {},
   "source": [
    "## 2. Schéma du point du milieu :"
   ]
  },
  {
   "cell_type": "markdown",
   "metadata": {},
   "source": [
    "On veut toujours résoudre le problème de Cauchy (1), en utilisant la formulation intégrale (3). Cette fois on utilise l'approximation\n",
    "\n",
    "\\begin{equation}\n",
    "\\int_a^b g(s)ds\n",
    "\\sim\n",
    "(b-a)g(\\frac{a+b}{2})\n",
    "\\tag{6}\\label{6}\n",
    "\\end{equation}\n",
    "\n",
    "Comme on ne connait évidemment pas la valeur de $y$ à l'instant $\\ds t^{n+1/2} := \\frac{t^n+t^{n+1}}{2}$, on est conduit au schéma dit _du point milieu_ suivant:\n",
    "\n",
    "\\begin{equation}\n",
    "\\left\\{\n",
    "\\begin{array}{lcl}\n",
    "    t^{n+1/2} &=& t^n + \\frac{\\Delta t}{2},\\\\\n",
    "    y^{n+1/2} &=& y^n + \\frac{\\Delta t}{2} f(t^n,y^n),\\\\\n",
    "    y^{n+1} &=& y^n + \\Delta t \\ f(t^{n+1/2},y^{n+1/2})\n",
    "\\end{array}\n",
    "\\right .\n",
    "\\tag{7}\\label{7}\n",
    "\\end{equation}"
   ]
  },
  {
   "cell_type": "markdown",
   "metadata": {},
   "source": [
    "#### QUESTION 8\n",
    "\n",
    "A quoi correspond graphiquement cette approximation de $\\ds\\int_a^b g(s) ds$?"
   ]
  },
  {
   "cell_type": "markdown",
   "metadata": {},
   "source": [
    "#### QUESTION 9\n",
    "\n",
    "Programmer la méthode du point milieu afin de calculer la solution approchée d'un problème de Cauchy scalaire ( i.e. où l'inconnue est à valeurs dans  ℝ ) générique. On écrira une fonction milieu(f, y_0, T, Delta_t) qui renvoie un tableau constitué des valeurs de la solution approchée aux instants 0, Delta_t, 2Delta_t,..., T.\n",
    "\n",
    "Tester votre méthode sur l'équation de Malthus, en représentant la solution et plusieurs solutions approchées (pour différents pas de temps) sur le même graphique."
   ]
  },
  {
   "cell_type": "code",
   "execution_count": null,
   "metadata": {
    "collapsed": true
   },
   "outputs": [],
   "source": [
    "# votre réponse\n",
    "\n",
    "def milieu(f, y_0, T, Delta_t):\n",
    "    \"\"\"\n",
    "    schéma du point milieu pour résoudre y'=f(t,y) sur [0,T] avec y(0)=y_0\n",
    "    entrées: f, y_0, T et le pas Delta_t\n",
    "    sorties: t, y_app\n",
    "    \"\"\"\n",
    "    ...\n",
    "    ...\n",
    "    return t, y\n"
   ]
  },
  {
   "cell_type": "markdown",
   "metadata": {},
   "source": [
    "#### QUESTION 10\n",
    "\n",
    "Pour l'équation de Malthus ci-dessus, calculer les erreurs globales du schéma du point milieu pour différentes valeurs de $\\Delta t$. Ce schéma vous semble-t-il convergent ?"
   ]
  },
  {
   "cell_type": "markdown",
   "metadata": {},
   "source": [
    "#### QUESTION 11\n",
    "\n",
    "Estimer l'ordre de convergence du schéma du point milieu pour l'équation de Malthus."
   ]
  },
  {
   "cell_type": "markdown",
   "metadata": {},
   "source": [
    "#### QUESTION 12\n",
    "\n",
    "Reprendre les questions 9, 10 et 11 pour l'équation de Verhulst."
   ]
  },
  {
   "cell_type": "markdown",
   "metadata": {},
   "source": [
    "#### QUESTION 13\n",
    "\n",
    "On peut prouver qu'en fait, l'ordre d'un schéma numérique pour résoudre des problèmes de Cauchy (1) ne dépend pas de la fonction $f$ (pourvu qu'elle soit assez régulière). Parmi les deux schémas qu'on a étudié, lequel utiliserez vous à l'avenir?"
   ]
  },
  {
   "cell_type": "code",
   "execution_count": null,
   "metadata": {
    "collapsed": true
   },
   "outputs": [],
   "source": []
  }
 ],
 "metadata": {
  "anaconda-cloud": {},
  "celltoolbar": "Format de la Cellule Texte Brut",
  "kernelspec": {
   "display_name": "Python 3",
   "language": "python",
   "name": "python3"
  },
  "language_info": {
   "codemirror_mode": {
    "name": "ipython",
    "version": 3
   },
   "file_extension": ".py",
   "mimetype": "text/x-python",
   "name": "python",
   "nbconvert_exporter": "python",
   "pygments_lexer": "ipython3",
   "version": "3.7.4"
  },
  "latex_envs": {
   "LaTeX_envs_menu_present": true,
   "autocomplete": true,
   "bibliofile": "biblio.bib",
   "cite_by": "apalike",
   "current_citInitial": 1,
   "eqLabelWithNumbers": true,
   "eqNumInitial": 1,
   "hotkeys": {
    "equation": "Ctrl-E",
    "itemize": "Ctrl-I"
   },
   "labels_anchors": true,
   "latex_user_defs": false,
   "report_style_numbering": false,
   "user_envs_cfg": true
  },
  "livereveal": {
   "autolaunch": true,
   "footer": "",
   "header": "<h4>M209 - Dynamique des populations</h4>",
   "scroll": true,
   "theme": "sky",
   "transition": "convex"
  },
  "nbpresent": {
   "slides": {
    "1d19efff-ca23-4411-a28d-0acfe8b0a21f": {
     "id": "1d19efff-ca23-4411-a28d-0acfe8b0a21f",
     "prev": null,
     "regions": {
      "ce0660fc-2126-4fc1-af82-924604c460c9": {
       "attrs": {
        "height": 0.8,
        "width": 0.8,
        "x": 0.1,
        "y": 0.1
       },
       "content": {
        "cell": "91de52c2-c2c7-499f-8a66-d7d7201835fa",
        "part": "whole"
       },
       "id": "ce0660fc-2126-4fc1-af82-924604c460c9"
      }
     }
    },
    "4b687039-6844-41e3-a2b7-e4383f0cd404": {
     "id": "4b687039-6844-41e3-a2b7-e4383f0cd404",
     "prev": "1d19efff-ca23-4411-a28d-0acfe8b0a21f",
     "regions": {
      "4d7e4ca1-0dc1-4baa-aee1-858aded88138": {
       "attrs": {
        "height": 0.8,
        "width": 0.8,
        "x": 0.1,
        "y": 0.1
       },
       "content": {
        "cell": "55aff2bb-bdaa-4c5c-ba2e-bbf4e83f63c7",
        "part": "whole"
       },
       "id": "4d7e4ca1-0dc1-4baa-aee1-858aded88138"
      }
     }
    },
    "795524dc-81d3-4604-8482-a4190b0fa9a8": {
     "id": "795524dc-81d3-4604-8482-a4190b0fa9a8",
     "prev": "a7009650-63e6-4dab-b943-fa2793414400",
     "regions": {
      "1681ba9b-a113-47bd-8b3e-4896d7147602": {
       "attrs": {
        "height": 0.8,
        "width": 0.8,
        "x": 0.1,
        "y": 0.1
       },
       "content": {
        "cell": "282cf50f-1e0c-49a9-bad8-342ec14cae5d",
        "part": "whole"
       },
       "id": "1681ba9b-a113-47bd-8b3e-4896d7147602"
      }
     }
    },
    "a7009650-63e6-4dab-b943-fa2793414400": {
     "id": "a7009650-63e6-4dab-b943-fa2793414400",
     "prev": "4b687039-6844-41e3-a2b7-e4383f0cd404",
     "regions": {
      "93073f47-71b4-407a-aca0-816e24070974": {
       "attrs": {
        "height": 0.8,
        "width": 0.8,
        "x": 0.1,
        "y": 0.1
       },
       "content": {
        "cell": "8d57688c-3605-4554-9273-2652b8f7594b",
        "part": "whole"
       },
       "id": "93073f47-71b4-407a-aca0-816e24070974"
      }
     }
    },
    "a94ea374-e922-483e-9643-233609149bf4": {
     "id": "a94ea374-e922-483e-9643-233609149bf4",
     "prev": "c3e8624c-5445-4710-ad30-3caf4bc545d7",
     "regions": {
      "52169aa9-d0f1-4006-96ed-f75c2fb97aa7": {
       "attrs": {
        "height": 0.8,
        "width": 0.8,
        "x": 0.1,
        "y": 0.1
       },
       "content": {
        "cell": "51d5d06f-0c6e-4356-844d-eeba100ee2d4",
        "part": "whole"
       },
       "id": "52169aa9-d0f1-4006-96ed-f75c2fb97aa7"
      }
     }
    },
    "c3e8624c-5445-4710-ad30-3caf4bc545d7": {
     "id": "c3e8624c-5445-4710-ad30-3caf4bc545d7",
     "prev": "795524dc-81d3-4604-8482-a4190b0fa9a8",
     "regions": {
      "38b9f09d-b6e0-4ae7-a8d4-723e567bd7ec": {
       "attrs": {
        "height": 0.8,
        "width": 0.8,
        "x": 0.1,
        "y": 0.1
       },
       "content": {
        "cell": "ef1d8596-ba87-4d96-9bb1-ba6cef56e3aa",
        "part": "whole"
       },
       "id": "38b9f09d-b6e0-4ae7-a8d4-723e567bd7ec"
      }
     }
    },
    "ca7dee26-42ee-4f31-a1ed-3190d08ac48d": {
     "id": "ca7dee26-42ee-4f31-a1ed-3190d08ac48d",
     "prev": "a94ea374-e922-483e-9643-233609149bf4",
     "regions": {
      "1ab5f88b-0f70-4a57-854f-94e18e52fc1f": {
       "attrs": {
        "height": 0.8,
        "width": 0.8,
        "x": 0.1,
        "y": 0.1
       },
       "content": {
        "cell": "89cc9dc9-641a-42c3-b837-f41662e6d399",
        "part": "whole"
       },
       "id": "1ab5f88b-0f70-4a57-854f-94e18e52fc1f"
      }
     }
    }
   },
   "themes": {
    "default": "132562bd-29cc-4ad2-afd0-604b8efa68b3",
    "theme": {}
   }
  },
  "widgets": {
   "state": {
    "42bfba21ec824ea2abaa4537c857de48": {
     "views": [
      {
       "cell_index": 3
      }
     ]
    },
    "69e2f1e5d30e4d6db5ddbca6d62a747f": {
     "views": [
      {
       "cell_index": 3
      }
     ]
    },
    "d3e34dfcdbcd425d9d10d77fd1c2ae84": {
     "views": [
      {
       "cell_index": 3
      }
     ]
    }
   },
   "version": "1.2.0"
  }
 },
 "nbformat": 4,
 "nbformat_minor": 4
}
