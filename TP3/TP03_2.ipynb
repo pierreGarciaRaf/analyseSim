{
 "cells": [
  {
   "cell_type": "markdown",
   "metadata": {},
   "source": [
    "# TP n° 3"
   ]
  },
  {
   "cell_type": "markdown",
   "metadata": {},
   "source": [
    "# Deux méthodes de résolution numérique d'un problème de Cauchy\n",
    "$\\newcommand{\\ds}{\\displaystyle}$\n",
    "$\\newcommand{\\R}{{\\mathbb R}}$\n",
    "\n",
    "Nous allons programmer deux méthodes pour construire une solution approchée du problème de Cauchy \n",
    "\\begin{equation}\n",
    "\\left\\lbrace\n",
    "\\begin{aligned}\n",
    "&y'= f(t, y),\\\\\n",
    "&y(0) = y_0.\n",
    "\\end{aligned}\n",
    "\\right.\n",
    "\\tag{1}\\label{1}\n",
    "\\end{equation}\n",
    "\n",
    "On va calculer des valeurs approchées de la solutions aux instants $t^n =n\\Delta t$, où $\\Delta t>0$ est un __pas de temps__ choisi arbitrairement. Pour cela on part de la formule, valable pour toute fonction $y$ de classe $C^1$,\n",
    "\n",
    "\\begin{equation}\n",
    "y(t^{n+1})-y(t^n)=\\int_{t^n}^{t^{n+1}} y'(s) ds\n",
    "\\tag{2}\\label{2}\n",
    "\\end{equation}\n",
    "\n",
    "Ainsi, la fonction $y$, supposée $C^1$, est la solution du problème de Cauchy $\\eqref{1}$ si et seulement si, pour toute suite $(t^n)$, \n",
    "\n",
    "\\begin{equation}\n",
    "\\left\\{\n",
    "\\begin{array}{l}\n",
    "y(t^{n+1})= y(t^n) +\\ds\\int_{t^n}^{t^{n+1}} f(s,y(s)) ds,\\\\\n",
    "y(t^0) = y_0.\n",
    "\\end{array}\n",
    "\\right .\n",
    "\\tag{3}\\label{3}\n",
    "\\end{equation}\n",
    "\n",
    "\n",
    "## 1. Méthode d'Euler\n",
    "\n",
    "\n",
    "La méthode d'Euler est basée sur la formule $\\eqref{3}$ et consiste à remplacer l'intégrale \n",
    "par l'approximation:\n",
    "\n",
    "\\begin{equation}\n",
    "\\int_{t^n}^{t^{n+1}} f(s,y(s)) ds\\sim (t^{n+1}-t^n)f(t_n,y(t^n))=\\Delta t f(t_n,y(t^n)).\n",
    "\\tag{4}\\label{4}\n",
    "\\end{equation}\n",
    "\n"
   ]
  },
  {
   "cell_type": "markdown",
   "metadata": {},
   "source": [
    "#### QUESTION 1 \n",
    "\n",
    "A quoi correspond graphiquement cette approximation de $\\ds\\int_a^b g(s) ds$?"
   ]
  },
  {
   "cell_type": "markdown",
   "metadata": {},
   "source": [
    "Cela correspond a l'aire d'un rectangle de hauteur f(tn,yt) et de largeur deltat"
   ]
  },
  {
   "cell_type": "markdown",
   "metadata": {},
   "source": [
    "#### QUESTION 2\n",
    "\n",
    "Programmer la méthode d'Euler afin de calculer la solution approchée d'un problème de Cauchy scalaire ( i.e. où l'inconnue est à valeurs dans $\\R$) générique. On écrira une fonction euler(f, y_0, T, Delta_t) qui renvoie deux tableaux : t, constitué des instants 0, Delta_t, 2Delta_t,..., T et y, constitué des valeurs de la solution approchée en ces instants.\n",
    "\n",
    "Tester votre méthode sur l'équation de Malthus, en représentant la solution et plusieurs solutions approchées (pour différents pas de temps) sur le même graphique."
   ]
  },
  {
   "cell_type": "code",
   "execution_count": 1,
   "metadata": {},
   "outputs": [],
   "source": [
    "# Votre réponse\n",
    "import numpy as np\n",
    "import matplotlib.pyplot as plt\n"
   ]
  },
  {
   "cell_type": "code",
   "execution_count": 2,
   "metadata": {},
   "outputs": [],
   "source": [
    "np.ndarray??"
   ]
  },
  {
   "cell_type": "code",
   "execution_count": 3,
   "metadata": {},
   "outputs": [
    {
     "data": {
      "text/plain": [
       "[<matplotlib.lines.Line2D at 0x117df0190>]"
      ]
     },
     "execution_count": 3,
     "metadata": {},
     "output_type": "execute_result"
    },
    {
     "data": {
      "image/png": "[encoded data removed]",
      "text/plain": [
       "<Figure size 1440x216 with 2 Axes>"
      ]
     },
     "metadata": {
      "needs_background": "light"
     },
     "output_type": "display_data"
    }
   ],
   "source": [
    "\n",
    "\n",
    "def euler(f, y_0, T, Delta_t):\n",
    "    \"\"\"\n",
    "    schéma d'Euler explicite pour résoudre y'=f(t,y) sur [0,T] avec y(0)=y_0\n",
    "    entrées: f, y_0, T et le pas Delta_t\n",
    "    sorties: t, y_app\n",
    "    \"\"\"\n",
    "    t = np.arange(0,T,Delta_t)\n",
    "    N = np.array(range(0,len(t)-1))\n",
    "    y = np.zeros(len(t))\n",
    "    y[0]= y_0;\n",
    "    for s in N:\n",
    "        y[s+1]= y[s] + Delta_t * f(t[s],y[s])\n",
    "    return t,y\n",
    "\n",
    "T = 10\n",
    "Delta_t = 0.05\n",
    "y_0 = 1\n",
    "rr = 0.7\n",
    "K =10\n",
    "def m(t,y):\n",
    "    return rr*y\n",
    "\n",
    "def f (t,y):\n",
    "    return rr * y * (1-y/K)\n",
    "\n",
    "fig,ax = plt.subplots(1,2,figsize = (20,3))\n",
    "res = euler(m,y_0,T,Delta_t)\n",
    "t = res[0]\n",
    "ax[0].plot(t,res[1])\n",
    "ax[1].plot(t,y_0 * np.exp(rr * t))"
   ]
  },
  {
   "cell_type": "markdown",
   "metadata": {},
   "source": [
    "### Erreur du schéma\n",
    "\n",
    "\n",
    "Le schéma d'Euler permet de trouver des valeurs approchées $y^n$ aux instants $t^n$ de la valeur $y(t^n)$ de la solution du problème de Cauchy (1). L'erreur du schéma à l'instant $t^n$ est la quantité\n",
    "\n",
    "\\begin{equation}\n",
    "e_n = \\vert y^n -y(t^n)\\vert,\n",
    "\\end{equation}\n",
    "\n",
    "et l'erreur globale du schéma d'Euler est le maximum sur tous les instants de l'erreur locale :\n",
    "\n",
    "\\begin{equation}\n",
    "e=\\max_n e_n.\n",
    "\\end{equation}\n",
    "\n",
    "Ce que l'on espère, c'est que cette erreur $e$ tende vers 0 quand le pas $\\Delta t$ tend vers 0. On dit que le schéma est _convergent_ lorsque c'est le cas."
   ]
  },
  {
   "cell_type": "markdown",
   "metadata": {},
   "source": [
    "#### QUESTION 3\n",
    "\n",
    "Pour l'équation de Malthus ci-dessus, calculer les erreurs globales du schéma d'Euler pour différentes valeurs de $\\Delta t$. Ce schéma vous semble-t-il convergent ?"
   ]
  },
  {
   "cell_type": "code",
   "execution_count": 4,
   "metadata": {},
   "outputs": [],
   "source": [
    "def calcErreurGlobale(solAp,solEx):\n",
    "    if (len(solAp) != len(solEx)):\n",
    "        print(\"The two solution are not the same size\")\n",
    "        return False\n",
    "    i = 0\n",
    "    maxEcart = 0\n",
    "    for yn in solAp:\n",
    "        maxEcart = max(abs(yn - solEx[i]),maxEcart)\n",
    "        i+=1\n",
    "    return maxEcart"
   ]
  },
  {
   "cell_type": "code",
   "execution_count": 5,
   "metadata": {},
   "outputs": [
    {
     "data": {
      "text/plain": [
       "930.0880753804942"
      ]
     },
     "execution_count": 5,
     "metadata": {},
     "output_type": "execute_result"
    }
   ],
   "source": [
    "calcErreurGlobale(res[1],K /(1+(K/y_0 - 1) * np.exp(-rr * t)))"
   ]
  },
  {
   "cell_type": "code",
   "execution_count": 6,
   "metadata": {},
   "outputs": [
    {
     "data": {
      "text/plain": [
       "[<matplotlib.lines.Line2D at 0x1180d3290>]"
      ]
     },
     "execution_count": 6,
     "metadata": {},
     "output_type": "execute_result"
    },
    {
     "data": {
      "image/png": "[encoded data removed]",
      "text/plain": [
       "<Figure size 432x288 with 1 Axes>"
      ]
     },
     "metadata": {
      "needs_background": "light"
     },
     "output_type": "display_data"
    }
   ],
   "source": [
    "erreurs = []\n",
    "deltaLinsapce = np.linspace(5,0.01,30) \n",
    "for Delta_t in deltaLinsapce:\n",
    "    res = euler(m,y_0,T,Delta_t)\n",
    "    \n",
    "    erreurs.append(calcErreurGlobale(res[1],y_0*np.exp(rr * res[0])))\n",
    "    \n",
    "plt.plot(deltaLinsapce,erreurs)"
   ]
  },
  {
   "cell_type": "markdown",
   "metadata": {},
   "source": [
    "#### QUESTION 4\n",
    "Pour un schéma convergent, on souhaite que la convergence vers la solution exacte soit le plus rapide possible. On dit qu'un schéma est d'ordre $p$ lorsque $e=O((\\Delta t)^p)$ quand $\\Delta t\\to 0$ (pour les fonctions $f$ régulières).\n",
    "\n",
    "Estimer l'ordre de convergence apparent du schéma d'Euler pour l'équation de Malthus (on pourra tracer\n",
    "$\\log e/\\log \\Delta t$)."
   ]
  },
  {
   "cell_type": "code",
   "execution_count": 7,
   "metadata": {},
   "outputs": [],
   "source": [
    "plt.plot??"
   ]
  },
  {
   "cell_type": "code",
   "execution_count": 8,
   "metadata": {},
   "outputs": [
    {
     "data": {
      "text/plain": [
       "[<matplotlib.lines.Line2D at 0x11803ce90>]"
      ]
     },
     "execution_count": 8,
     "metadata": {},
     "output_type": "execute_result"
    },
    {
     "data": {
      "image/png": "[encoded data removed]",
      "text/plain": [
       "<Figure size 432x288 with 1 Axes>"
      ]
     },
     "metadata": {
      "needs_background": "light"
     },
     "output_type": "display_data"
    }
   ],
   "source": [
    "erreurs = []\n",
    "deltaLinspace = np.linspace(1,0.001,100) \n",
    "for Delta_t in deltaLinspace:\n",
    "    res = euler(m,y_0,T,Delta_t)\n",
    "    erreurs.append(calcErreurGlobale(res[1],y_0*np.exp(rr * res[0])))\n",
    "plt.grid()\n",
    "plt.plot(np.log(deltaLinspace),np.log(erreurs))"
   ]
  },
  {
   "cell_type": "markdown",
   "metadata": {},
   "source": [
    "p=1 (fonction ~ affine de pente 2 en log, donc cubique en normal.)"
   ]
  },
  {
   "cell_type": "markdown",
   "metadata": {},
   "source": [
    "#### QUESTION 5\n",
    " \n",
    "Appliquer ce schéma à la résolution numérique du problème de Verhulst ($r=2$, $K=1$ par exemple,  comme dans le TP1).\n",
    "On prend $y_0=0.1$ et on veut résoudre le problème entre $t=0$ et $t=T_f=20$. Prenez des valeurs de Delta_t entre 1 et 0.2. Que remarquez-vous?"
   ]
  },
  {
   "cell_type": "code",
   "execution_count": 9,
   "metadata": {},
   "outputs": [
    {
     "data": {
      "text/plain": [
       "[<matplotlib.lines.Line2D at 0x118a88290>]"
      ]
     },
     "execution_count": 9,
     "metadata": {},
     "output_type": "execute_result"
    },
    {
     "data": {
      "image/png": "[encoded data removed]",
      "text/plain": [
       "<Figure size 432x288 with 1 Axes>"
      ]
     },
     "metadata": {
      "needs_background": "light"
     },
     "output_type": "display_data"
    }
   ],
   "source": [
    "rr=  2\n",
    "K = 1\n",
    "res = euler(f,0.1,20,1)\n",
    "plt.plot(res[0],res[1])"
   ]
  },
  {
   "cell_type": "markdown",
   "metadata": {},
   "source": [
    "ça se rapproche de la suite récurrente."
   ]
  },
  {
   "cell_type": "markdown",
   "metadata": {},
   "source": [
    "#### QUESTION 6\n",
    "\n",
    "On prend maintenant quelques pas de temps inférieurs à 0.1. Tracer des solutions approchées ainsi que la solution exacte dans une fenêtre graphique. \n",
    "\n",
    "Vérifier graphiquement que la solution approchée converge bien vers la solution exacte, par exemple en divisant le pas de temps par 2 plusieurs fois. On se focalisera sur l'intervalle [0,2]."
   ]
  },
  {
   "cell_type": "markdown",
   "metadata": {},
   "source": [
    "voir ci dessus"
   ]
  },
  {
   "cell_type": "markdown",
   "metadata": {},
   "source": [
    "#### QUESTION 7\n",
    "\n",
    "Calculer l'erreur globale apparente du schéma d'Euler pour l'équation de Verhulst. Estimer l'ordre de convergence apparent du schéma d'Euler pour l'équation de Verhulst."
   ]
  },
  {
   "cell_type": "code",
   "execution_count": 10,
   "metadata": {},
   "outputs": [
    {
     "name": "stderr",
     "output_type": "stream",
     "text": [
      "/usr/local/anaconda3/lib/python3.7/site-packages/ipykernel_launcher.py:9: RuntimeWarning: divide by zero encountered in log\n",
      "  if __name__ == '__main__':\n"
     ]
    },
    {
     "data": {
      "text/plain": [
       "[<matplotlib.lines.Line2D at 0x118ac4a90>]"
      ]
     },
     "execution_count": 10,
     "metadata": {},
     "output_type": "execute_result"
    },
    {
     "data": {
      "image/png": "[encoded data removed]",
      "text/plain": [
       "<Figure size 432x288 with 1 Axes>"
      ]
     },
     "metadata": {
      "needs_background": "light"
     },
     "output_type": "display_data"
    }
   ],
   "source": [
    "erreurs = []\n",
    "deltaLinsapce = np.linspace(5,0.01,100) \n",
    "for Delta_t in deltaLinsapce:\n",
    "    res = euler(f,y_0,T,Delta_t)\n",
    "    \n",
    "    erreurs.append(calcErreurGlobale(res[1],K /(1+(K/y_0 - 1) * np.exp(-rr * res[0]))))\n",
    "    \n",
    "plt.grid()\n",
    "plt.plot(np.log(deltaLinsapce),np.log(erreurs))"
   ]
  },
  {
   "cell_type": "markdown",
   "metadata": {},
   "source": [
    "p=1 (fonction ~ linéaire de pente 1 en log, donc affine en normal.)"
   ]
  },
  {
   "cell_type": "markdown",
   "metadata": {},
   "source": [
    "## 2. Schéma du point du milieu :"
   ]
  },
  {
   "cell_type": "markdown",
   "metadata": {},
   "source": [
    "On veut toujours résoudre le problème de Cauchy (1), en utilisant la formulation intégrale (3). Cette fois on utilise l'approximation\n",
    "\n",
    "\\begin{equation}\n",
    "\\int_a^b g(s)ds\n",
    "\\sim\n",
    "(b-a)g(\\frac{a+b}{2})\n",
    "\\tag{6}\\label{6}\n",
    "\\end{equation}\n",
    "\n",
    "Comme on ne connait évidemment pas la valeur de $y$ à l'instant $\\ds t^{n+1/2} := \\frac{t^n+t^{n+1}}{2}$, on est conduit au schéma dit _du point milieu_ suivant:\n",
    "\n",
    "\\begin{equation}\n",
    "\\left\\{\n",
    "\\begin{array}{lcl}\n",
    "    t^{n+1/2} &=& t^n + \\frac{\\Delta t}{2},\\\\\n",
    "    y^{n+1/2} &=& y^n + \\frac{\\Delta t}{2} f(t^n,y^n),\\\\\n",
    "    y^{n+1} &=& y^n + \\Delta t \\ f(t^{n+1/2},y^{n+1/2})\n",
    "\\end{array}\n",
    "\\right .\n",
    "\\tag{7}\\label{7}\n",
    "\\end{equation}"
   ]
  },
  {
   "cell_type": "markdown",
   "metadata": {},
   "source": [
    "#### QUESTION 8\n",
    "\n",
    "A quoi correspond graphiquement cette approximation de $\\ds\\int_a^b g(s) ds$?"
   ]
  },
  {
   "cell_type": "markdown",
   "metadata": {},
   "source": [
    "même chose, mais la avec une fonction affine a la place du haut du rectangle."
   ]
  },
  {
   "cell_type": "markdown",
   "metadata": {},
   "source": [
    "#### QUESTION 9\n",
    "\n",
    "Programmer la méthode du point milieu afin de calculer la solution approchée d'un problème de Cauchy scalaire ( i.e. où l'inconnue est à valeurs dans  ℝ ) générique. On écrira une fonction milieu(f, y_0, T, Delta_t) qui renvoie un tableau constitué des valeurs de la solution approchée aux instants 0, Delta_t, 2Delta_t,..., T.\n",
    "\n",
    "Tester votre méthode sur l'équation de Malthus, en représentant la solution et plusieurs solutions approchées (pour différents pas de temps) sur le même graphique."
   ]
  },
  {
   "cell_type": "code",
   "execution_count": 11,
   "metadata": {},
   "outputs": [],
   "source": [
    "# votre réponse\n",
    "\n",
    "def milieu(f, y_0, T, Delta_t):\n",
    "    \"\"\"\n",
    "    schéma du point milieu pour résoudre y'=f(t,y) sur [0,T] avec y(0)=y_0\n",
    "    entrées: f, y_0, T et le pas Delta_t\n",
    "    sorties: t, y_app\n",
    "    \"\"\"\n",
    "    t = np.arange(0,T,Delta_t)\n",
    "    N = np.array(range(0,len(t)-1))\n",
    "    y = np.zeros(len(t))\n",
    "    y[0]= y_0;\n",
    "    for s in N:\n",
    "        y[s+1]= y[s] + Delta_t * f(t[s]+Delta_t*0.5, y[s]+Delta_t*0.5*f(t[s],y[s]))\n",
    "    return t,y\n"
   ]
  },
  {
   "cell_type": "markdown",
   "metadata": {},
   "source": [
    "#### QUESTION 10\n",
    "\n",
    "Pour l'équation de Malthus ci-dessus, calculer les erreurs globales du schéma du point milieu pour différentes valeurs de $\\Delta t$. Ce schéma vous semble-t-il convergent ?"
   ]
  },
  {
   "cell_type": "code",
   "execution_count": 12,
   "metadata": {},
   "outputs": [
    {
     "name": "stderr",
     "output_type": "stream",
     "text": [
      "/usr/local/anaconda3/lib/python3.7/site-packages/ipykernel_launcher.py:9: RuntimeWarning: divide by zero encountered in log\n",
      "  if __name__ == '__main__':\n"
     ]
    },
    {
     "data": {
      "text/plain": [
       "[<matplotlib.lines.Line2D at 0x118bc7450>]"
      ]
     },
     "execution_count": 12,
     "metadata": {},
     "output_type": "execute_result"
    },
    {
     "data": {
      "image/png": "[encoded data removed]",
      "text/plain": [
       "<Figure size 432x288 with 1 Axes>"
      ]
     },
     "metadata": {
      "needs_background": "light"
     },
     "output_type": "display_data"
    }
   ],
   "source": [
    "erreurs = []\n",
    "deltaLinsapce = np.linspace(5,0.01,100) \n",
    "for Delta_t in deltaLinsapce:\n",
    "    res = milieu(f,y_0,T,Delta_t)\n",
    "    \n",
    "    erreurs.append(calcErreurGlobale(res[1],K /(1+(K/y_0 - 1) * np.exp(-rr * res[0]))))\n",
    "    \n",
    "plt.grid()\n",
    "plt.plot(np.log(deltaLinsapce),np.log(erreurs))"
   ]
  },
  {
   "cell_type": "markdown",
   "metadata": {},
   "source": [
    "oui"
   ]
  },
  {
   "cell_type": "markdown",
   "metadata": {},
   "source": [
    "#### QUESTION 11\n",
    "\n",
    "Estimer l'ordre de convergence du schéma du point milieu pour l'équation de Malthus."
   ]
  },
  {
   "cell_type": "code",
   "execution_count": 13,
   "metadata": {},
   "outputs": [
    {
     "name": "stderr",
     "output_type": "stream",
     "text": [
      "/usr/local/anaconda3/lib/python3.7/site-packages/ipykernel_launcher.py:9: RuntimeWarning: divide by zero encountered in log\n",
      "  if __name__ == '__main__':\n"
     ]
    },
    {
     "data": {
      "text/plain": [
       "[<matplotlib.lines.Line2D at 0x118c8d650>]"
      ]
     },
     "execution_count": 13,
     "metadata": {},
     "output_type": "execute_result"
    },
    {
     "data": {
      "image/png": "[encoded data removed]",
      "text/plain": [
       "<Figure size 432x288 with 1 Axes>"
      ]
     },
     "metadata": {
      "needs_background": "light"
     },
     "output_type": "display_data"
    }
   ],
   "source": [
    "erreurs = []\n",
    "deltaLinsapce = np.linspace(5,0.01,100) \n",
    "for Delta_t in deltaLinsapce:\n",
    "    res = milieu(f,y_0,T,Delta_t)\n",
    "    \n",
    "    erreurs.append(calcErreurGlobale(res[1],K /(1+(K/y_0 - 1) * np.exp(-rr * res[0]))))\n",
    "    \n",
    "plt.grid()\n",
    "plt.plot(np.log(deltaLinsapce),np.log(erreurs))"
   ]
  },
  {
   "cell_type": "markdown",
   "metadata": {},
   "source": [
    "p = 2 : quadratique"
   ]
  },
  {
   "cell_type": "markdown",
   "metadata": {},
   "source": [
    "#### QUESTION 12\n",
    "\n",
    "Reprendre les questions 9, 10 et 11 pour l'équation de Verhulst."
   ]
  },
  {
   "cell_type": "markdown",
   "metadata": {},
   "source": [
    "non\n",
    "ça donnera pareil.\n",
    "C'est la même méthode avec 2 fois plus de pas.\n",
    "\n"
   ]
  },
  {
   "cell_type": "markdown",
   "metadata": {},
   "source": [
    "#### QUESTION 13\n",
    "\n",
    "On peut prouver qu'en fait, l'ordre d'un schéma numérique pour résoudre des problèmes de Cauchy (1) ne dépend pas de la fonction $f$ (pourvu qu'elle soit assez régulière). Parmi les deux schémas qu'on a étudié, lequel utiliserez vous à l'avenir?"
   ]
  },
  {
   "cell_type": "markdown",
   "metadata": {
    "collapsed": true
   },
   "source": [
    "milieu"
   ]
  },
  {
   "cell_type": "code",
   "execution_count": 46,
   "metadata": {},
   "outputs": [],
   "source": [
    "# votre réponse\n",
    "\n",
    "def rKut2(f, y_0, T, Delta_t):\n",
    "    \"\"\"\n",
    "    schéma du point milieu pour résoudre y'=f(t,y) sur [0,T] avec y(0)=y_0\n",
    "    entrées: f, y_0, T et le pas Delta_t\n",
    "    sorties: t, y_app\n",
    "    \"\"\"\n",
    "    t = np.arange(0,T,Delta_t)\n",
    "    N = np.array(range(0,len(t)-1))\n",
    "    y = np.zeros(len(t))\n",
    "    y[0]= y_0\n",
    "    ft0 = y_0\n",
    "    for s in N:\n",
    "        ft1 = y[s] + Delta_t * f(t[s],y[s]) \n",
    "        \n",
    "        y[s+1]= ft1 + 0.5*Delta_t*(ft1-ft0)\n",
    "        ft0 = ft1\n",
    "    return t,y\n"
   ]
  },
  {
   "cell_type": "code",
   "execution_count": 47,
   "metadata": {},
   "outputs": [
    {
     "data": {
      "text/plain": [
       "[<matplotlib.lines.Line2D at 0x11b0161d0>]"
      ]
     },
     "execution_count": 47,
     "metadata": {},
     "output_type": "execute_result"
    },
    {
     "data": {
      "image/png": "[encoded data removed]",
      "text/plain": [
       "<Figure size 1440x216 with 2 Axes>"
      ]
     },
     "metadata": {
      "needs_background": "light"
     },
     "output_type": "display_data"
    }
   ],
   "source": [
    "fig,ax = plt.subplots(1,2,figsize = (20,3))\n",
    "T = 10\n",
    "Delta_t = 0.05\n",
    "y_0 = 1\n",
    "rr = 0.7\n",
    "K =10\n",
    "def m(t,y):\n",
    "    return rr*y\n",
    "\n",
    "res = rKut2(m,y_0,T,Delta_t)\n",
    "t = res[0]\n",
    "\n",
    "ax[0].plot(t,res[1])\n",
    "ax[1].plot(t,y_0 * np.exp(rr * t))"
   ]
  },
  {
   "cell_type": "code",
   "execution_count": 59,
   "metadata": {},
   "outputs": [
    {
     "data": {
      "text/plain": [
       "[<matplotlib.lines.Line2D at 0x107a67110>]"
      ]
     },
     "execution_count": 59,
     "metadata": {},
     "output_type": "execute_result"
    },
    {
     "data": {
      "image/png": "[encoded data removed]",
      "text/plain": [
       "<Figure size 432x288 with 1 Axes>"
      ]
     },
     "metadata": {
      "needs_background": "light"
     },
     "output_type": "display_data"
    }
   ],
   "source": [
    "erreurs = []\n",
    "deltaLinsapce = np.linspace(1,0.01,100)\n",
    "for Delta_t in deltaLinsapce:\n",
    "    res = euler(m,y_0,T,Delta_t)\n",
    "    \n",
    "    erreurs.append(calcErreurGlobale(res[1],y_0*np.exp(rr * res[0])))\n",
    "    \n",
    "plt.grid()\n",
    "plt.plot(np.log(deltaLinsapce),np.log(erreurs))"
   ]
  },
  {
   "cell_type": "code",
   "execution_count": 56,
   "metadata": {},
   "outputs": [
    {
     "data": {
      "text/plain": [
       "[<matplotlib.lines.Line2D at 0x11b64c4d0>]"
      ]
     },
     "execution_count": 56,
     "metadata": {},
     "output_type": "execute_result"
    },
    {
     "data": {
      "image/png": "[encoded data removed]",
      "text/plain": [
       "<Figure size 432x288 with 1 Axes>"
      ]
     },
     "metadata": {
      "needs_background": "light"
     },
     "output_type": "display_data"
    }
   ],
   "source": [
    "erreurs = []\n",
    "deltaLinsapce = np.linspace(1,0.01,100)\n",
    "for Delta_t in deltaLinsapce:\n",
    "    res = trapeze(m,y_0,T,Delta_t)\n",
    "    \n",
    "    erreurs.append(calcErreurGlobale(res[1],y_0*np.exp(rr * res[0])))\n",
    "    \n",
    "plt.grid()\n",
    "plt.plot(np.log(deltaLinsapce),np.log(erreurs))"
   ]
  },
  {
   "cell_type": "code",
   "execution_count": 84,
   "metadata": {},
   "outputs": [
    {
     "data": {
      "text/plain": [
       "4"
      ]
     },
     "execution_count": 84,
     "metadata": {},
     "output_type": "execute_result"
    }
   ],
   "source": [
    "squared = lambda x: x**2\n",
    "squared(2)"
   ]
  },
  {
   "cell_type": "code",
   "execution_count": 155,
   "metadata": {},
   "outputs": [],
   "source": [
    "def resEquation(f,y_t,t,dt,prec):\n",
    "    \"\"\"\n",
    "    resout l'équation y_t+1 = y_t + f(t+dt,y_t+1)\n",
    "    et retourne y_t+1\n",
    "    \"\"\"\n",
    "    \n",
    "    borneMin = y_t + dt *f(t,y_t) - 2\n",
    "    borneMax = borneMin + 4\n",
    "    bornesMins = [borneMin]\n",
    "    bornesMaxs = [borneMax]\n",
    "    distance  = lambda : borneMax-borneMin\n",
    "    moy = lambda : (borneMax+borneMin)*0.5\n",
    "    while (distance() > prec):\n",
    "        if (f(t+dt,moy()) - moy() < 0 ):\n",
    "            borneMax = moy()\n",
    "            bornesMaxs.append(borneMax)\n",
    "        else:\n",
    "            borneMin = moy()\n",
    "            bornesMins.append(borneMin)\n",
    "            \n",
    "    \n",
    "    plt.plot(range(len(bornesMins)),bornesMins, label = \"bornes mins\")\n",
    "    plt.plot(range(len(bornesMaxs)),bornesMaxs, label = \"bornes maxs\")\n",
    "    plt.legend()\n",
    "    print(\"bornes Mins : \",bornesMins)\n",
    "    print(\"bornes Maxs : \",bornesMaxs)\n",
    "    \n",
    "    return moy()\n",
    "            \n",
    "        "
   ]
  },
  {
   "cell_type": "code",
   "execution_count": 156,
   "metadata": {
    "scrolled": true
   },
   "outputs": [
    {
     "name": "stdout",
     "output_type": "stream",
     "text": [
      "bornes Mins :  [-0.95, 1.0499999999999998, 2.05, 2.55, 2.8, 2.925, 2.9875, 3.01875, 3.034375, 3.0421875, 3.04609375, 3.048046875, 3.0490234375, 3.04951171875, 3.049755859375, 3.0498779296875, 3.04993896484375]\n",
      "bornes Maxs :  [3.05]\n"
     ]
    },
    {
     "data": {
      "text/plain": [
       "3.049969482421875"
      ]
     },
     "execution_count": 156,
     "metadata": {},
     "output_type": "execute_result"
    },
    {
     "data": {
      "image/png": "[encoded data removed]",
      "text/plain": [
       "<Figure size 432x288 with 1 Axes>"
      ]
     },
     "metadata": {
      "needs_background": "light"
     },
     "output_type": "display_data"
    }
   ],
   "source": [
    "resEquation((lambda t,y: y),1,1,0.05,0.0001)"
   ]
  },
  {
   "cell_type": "code",
   "execution_count": 154,
   "metadata": {},
   "outputs": [
    {
     "data": {
      "text/plain": [
       "2.857651118063164"
      ]
     },
     "execution_count": 154,
     "metadata": {},
     "output_type": "execute_result"
    }
   ],
   "source": [
    "np.exp(1+0.05)"
   ]
  },
  {
   "cell_type": "code",
   "execution_count": 149,
   "metadata": {},
   "outputs": [],
   "source": [
    "# votre réponse\n",
    "\n",
    "def impl(f, y_0, T, Delta_t):\n",
    "    \"\"\"\n",
    "    schéma d'euler implicite pour résoudre y'=f(t,y) sur [0,T] avec y(0)=y_0\n",
    "    entrées: f, y_0, T et le pas Delta_t\n",
    "    sorties: t, y_app\n",
    "    \"\"\"\n",
    "    t = np.arange(0,T,Delta_t)\n",
    "    N = np.array(range(0,len(t)-1))\n",
    "    y = np.zeros(len(t))\n",
    "    y[0]= y_0\n",
    "    ft0 = y_0\n",
    "    for s in N:\n",
    "        y[s+1] = resEquation(f,y[s],t[s],Delta_t,0.01)\n",
    "        \n",
    "    return t,y\n"
   ]
  },
  {
   "cell_type": "code",
   "execution_count": 150,
   "metadata": {},
   "outputs": [
    {
     "data": {
      "text/plain": [
       "[<matplotlib.lines.Line2D at 0x130390610>]"
      ]
     },
     "execution_count": 150,
     "metadata": {},
     "output_type": "execute_result"
    },
    {
     "data": {
      "image/png": "[encoded data removed]",
      "text/plain": [
       "<Figure size 1440x216 with 2 Axes>"
      ]
     },
     "metadata": {
      "needs_background": "light"
     },
     "output_type": "display_data"
    }
   ],
   "source": [
    "T = 10\n",
    "Delta_t = 0.1\n",
    "y_0 = 1\n",
    "rr = 0.7\n",
    "K =10\n",
    "def m(t,y):\n",
    "    return rr*y\n",
    "\n",
    "def f (t,y):\n",
    "    return rr * y * (1-y/K)\n",
    "\n",
    "fig,ax = plt.subplots(1,2,figsize = (20,3))\n",
    "res = impl(m,y_0,T,Delta_t)\n",
    "t = res[0]\n",
    "ax[0].plot(t,res[1])\n",
    "ax[1].plot(t,y_0 * np.exp(rr * t))"
   ]
  },
  {
   "cell_type": "code",
   "execution_count": 151,
   "metadata": {},
   "outputs": [
    {
     "ename": "KeyboardInterrupt",
     "evalue": "",
     "output_type": "error",
     "traceback": [
      "\u001b[0;31m---------------------------------------------------------------------------\u001b[0m",
      "\u001b[0;31mKeyboardInterrupt\u001b[0m                         Traceback (most recent call last)",
      "\u001b[0;32m<ipython-input-151-19bb1ac56d26>\u001b[0m in \u001b[0;36m<module>\u001b[0;34m\u001b[0m\n\u001b[1;32m      2\u001b[0m \u001b[0mdeltaLinsapce\u001b[0m \u001b[0;34m=\u001b[0m \u001b[0mnp\u001b[0m\u001b[0;34m.\u001b[0m\u001b[0mlinspace\u001b[0m\u001b[0;34m(\u001b[0m\u001b[0;36m0.001\u001b[0m\u001b[0;34m,\u001b[0m\u001b[0;36m1\u001b[0m\u001b[0;34m,\u001b[0m\u001b[0;36m10\u001b[0m\u001b[0;34m)\u001b[0m\u001b[0;34m**\u001b[0m\u001b[0;36m1.5\u001b[0m\u001b[0;34m\u001b[0m\u001b[0;34m\u001b[0m\u001b[0m\n\u001b[1;32m      3\u001b[0m \u001b[0;32mfor\u001b[0m \u001b[0mDelta_t\u001b[0m \u001b[0;32min\u001b[0m \u001b[0mdeltaLinsapce\u001b[0m\u001b[0;34m:\u001b[0m\u001b[0;34m\u001b[0m\u001b[0;34m\u001b[0m\u001b[0m\n\u001b[0;32m----> 4\u001b[0;31m     \u001b[0mres\u001b[0m \u001b[0;34m=\u001b[0m \u001b[0mimpl\u001b[0m\u001b[0;34m(\u001b[0m\u001b[0mm\u001b[0m\u001b[0;34m,\u001b[0m\u001b[0my_0\u001b[0m\u001b[0;34m,\u001b[0m\u001b[0mT\u001b[0m\u001b[0;34m,\u001b[0m\u001b[0mDelta_t\u001b[0m\u001b[0;34m)\u001b[0m\u001b[0;34m\u001b[0m\u001b[0;34m\u001b[0m\u001b[0m\n\u001b[0m\u001b[1;32m      5\u001b[0m \u001b[0;34m\u001b[0m\u001b[0m\n\u001b[1;32m      6\u001b[0m     \u001b[0merreurs\u001b[0m\u001b[0;34m.\u001b[0m\u001b[0mappend\u001b[0m\u001b[0;34m(\u001b[0m\u001b[0mcalcErreurGlobale\u001b[0m\u001b[0;34m(\u001b[0m\u001b[0mres\u001b[0m\u001b[0;34m[\u001b[0m\u001b[0;36m1\u001b[0m\u001b[0;34m]\u001b[0m\u001b[0;34m,\u001b[0m\u001b[0my_0\u001b[0m\u001b[0;34m*\u001b[0m\u001b[0mnp\u001b[0m\u001b[0;34m.\u001b[0m\u001b[0mexp\u001b[0m\u001b[0;34m(\u001b[0m\u001b[0mrr\u001b[0m \u001b[0;34m*\u001b[0m \u001b[0mres\u001b[0m\u001b[0;34m[\u001b[0m\u001b[0;36m0\u001b[0m\u001b[0;34m]\u001b[0m\u001b[0;34m)\u001b[0m\u001b[0;34m)\u001b[0m\u001b[0;34m)\u001b[0m\u001b[0;34m\u001b[0m\u001b[0;34m\u001b[0m\u001b[0m\n",
      "\u001b[0;32m<ipython-input-149-c45729cec567>\u001b[0m in \u001b[0;36mimpl\u001b[0;34m(f, y_0, T, Delta_t)\u001b[0m\n\u001b[1;32m     13\u001b[0m     \u001b[0mft0\u001b[0m \u001b[0;34m=\u001b[0m \u001b[0my_0\u001b[0m\u001b[0;34m\u001b[0m\u001b[0;34m\u001b[0m\u001b[0m\n\u001b[1;32m     14\u001b[0m     \u001b[0;32mfor\u001b[0m \u001b[0ms\u001b[0m \u001b[0;32min\u001b[0m \u001b[0mN\u001b[0m\u001b[0;34m:\u001b[0m\u001b[0;34m\u001b[0m\u001b[0;34m\u001b[0m\u001b[0m\n\u001b[0;32m---> 15\u001b[0;31m         \u001b[0my\u001b[0m\u001b[0;34m[\u001b[0m\u001b[0ms\u001b[0m\u001b[0;34m+\u001b[0m\u001b[0;36m1\u001b[0m\u001b[0;34m]\u001b[0m \u001b[0;34m=\u001b[0m \u001b[0mresEquation\u001b[0m\u001b[0;34m(\u001b[0m\u001b[0mf\u001b[0m\u001b[0;34m,\u001b[0m\u001b[0my\u001b[0m\u001b[0;34m[\u001b[0m\u001b[0ms\u001b[0m\u001b[0;34m]\u001b[0m\u001b[0;34m,\u001b[0m\u001b[0mt\u001b[0m\u001b[0;34m[\u001b[0m\u001b[0ms\u001b[0m\u001b[0;34m]\u001b[0m\u001b[0;34m,\u001b[0m\u001b[0mDelta_t\u001b[0m\u001b[0;34m,\u001b[0m\u001b[0;36m0.01\u001b[0m\u001b[0;34m)\u001b[0m\u001b[0;34m\u001b[0m\u001b[0;34m\u001b[0m\u001b[0m\n\u001b[0m\u001b[1;32m     16\u001b[0m \u001b[0;34m\u001b[0m\u001b[0m\n\u001b[1;32m     17\u001b[0m     \u001b[0;32mreturn\u001b[0m \u001b[0mt\u001b[0m\u001b[0;34m,\u001b[0m\u001b[0my\u001b[0m\u001b[0;34m\u001b[0m\u001b[0;34m\u001b[0m\u001b[0m\n",
      "\u001b[0;32m<ipython-input-148-5e01da684d0e>\u001b[0m in \u001b[0;36mresEquation\u001b[0;34m(f, y_t, t, dt, prec)\u001b[0m\n\u001b[1;32m     12\u001b[0m     \u001b[0mmoy\u001b[0m \u001b[0;34m=\u001b[0m \u001b[0;32mlambda\u001b[0m \u001b[0;34m:\u001b[0m \u001b[0;34m(\u001b[0m\u001b[0mborneMax\u001b[0m\u001b[0;34m+\u001b[0m\u001b[0mborneMin\u001b[0m\u001b[0;34m)\u001b[0m\u001b[0;34m*\u001b[0m\u001b[0;36m0.5\u001b[0m\u001b[0;34m\u001b[0m\u001b[0;34m\u001b[0m\u001b[0m\n\u001b[1;32m     13\u001b[0m     \u001b[0;32mwhile\u001b[0m \u001b[0;34m(\u001b[0m\u001b[0mdistance\u001b[0m\u001b[0;34m(\u001b[0m\u001b[0;34m)\u001b[0m \u001b[0;34m>\u001b[0m \u001b[0mprec\u001b[0m\u001b[0;34m)\u001b[0m\u001b[0;34m:\u001b[0m\u001b[0;34m\u001b[0m\u001b[0;34m\u001b[0m\u001b[0m\n\u001b[0;32m---> 14\u001b[0;31m         \u001b[0;32mif\u001b[0m \u001b[0;34m(\u001b[0m\u001b[0mf\u001b[0m\u001b[0;34m(\u001b[0m\u001b[0mt\u001b[0m\u001b[0;34m+\u001b[0m\u001b[0mdt\u001b[0m\u001b[0;34m,\u001b[0m\u001b[0mmoy\u001b[0m\u001b[0;34m(\u001b[0m\u001b[0;34m)\u001b[0m\u001b[0;34m)\u001b[0m \u001b[0;34m-\u001b[0m \u001b[0mmoy\u001b[0m\u001b[0;34m(\u001b[0m\u001b[0;34m)\u001b[0m \u001b[0;34m<\u001b[0m \u001b[0;36m0\u001b[0m \u001b[0;34m)\u001b[0m\u001b[0;34m:\u001b[0m\u001b[0;34m\u001b[0m\u001b[0;34m\u001b[0m\u001b[0m\n\u001b[0m\u001b[1;32m     15\u001b[0m             \u001b[0mborneMax\u001b[0m \u001b[0;34m=\u001b[0m \u001b[0mmoy\u001b[0m\u001b[0;34m(\u001b[0m\u001b[0;34m)\u001b[0m\u001b[0;34m\u001b[0m\u001b[0;34m\u001b[0m\u001b[0m\n\u001b[1;32m     16\u001b[0m             \u001b[0mbornesMaxs\u001b[0m\u001b[0;34m.\u001b[0m\u001b[0mappend\u001b[0m\u001b[0;34m(\u001b[0m\u001b[0mborneMax\u001b[0m\u001b[0;34m)\u001b[0m\u001b[0;34m\u001b[0m\u001b[0;34m\u001b[0m\u001b[0m\n",
      "\u001b[0;32m<ipython-input-150-c3419b02cae6>\u001b[0m in \u001b[0;36mm\u001b[0;34m(t, y)\u001b[0m\n\u001b[1;32m      5\u001b[0m \u001b[0mK\u001b[0m \u001b[0;34m=\u001b[0m\u001b[0;36m10\u001b[0m\u001b[0;34m\u001b[0m\u001b[0;34m\u001b[0m\u001b[0m\n\u001b[1;32m      6\u001b[0m \u001b[0;32mdef\u001b[0m \u001b[0mm\u001b[0m\u001b[0;34m(\u001b[0m\u001b[0mt\u001b[0m\u001b[0;34m,\u001b[0m\u001b[0my\u001b[0m\u001b[0;34m)\u001b[0m\u001b[0;34m:\u001b[0m\u001b[0;34m\u001b[0m\u001b[0;34m\u001b[0m\u001b[0m\n\u001b[0;32m----> 7\u001b[0;31m     \u001b[0;32mreturn\u001b[0m \u001b[0mrr\u001b[0m\u001b[0;34m*\u001b[0m\u001b[0my\u001b[0m\u001b[0;34m\u001b[0m\u001b[0;34m\u001b[0m\u001b[0m\n\u001b[0m\u001b[1;32m      8\u001b[0m \u001b[0;34m\u001b[0m\u001b[0m\n\u001b[1;32m      9\u001b[0m \u001b[0;32mdef\u001b[0m \u001b[0mf\u001b[0m \u001b[0;34m(\u001b[0m\u001b[0mt\u001b[0m\u001b[0;34m,\u001b[0m\u001b[0my\u001b[0m\u001b[0;34m)\u001b[0m\u001b[0;34m:\u001b[0m\u001b[0;34m\u001b[0m\u001b[0;34m\u001b[0m\u001b[0m\n",
      "\u001b[0;31mKeyboardInterrupt\u001b[0m: "
     ]
    }
   ],
   "source": [
    "erreurs = []\n",
    "deltaLinsapce = np.linspace(0.001,1,10)**1.5\n",
    "for Delta_t in deltaLinsapce:\n",
    "    res = impl(m,y_0,T,Delta_t)\n",
    "    \n",
    "    erreurs.append(calcErreurGlobale(res[1],y_0*np.exp(rr * res[0])))\n",
    "    \n",
    "plt.grid()\n",
    "plt.plot(np.log(deltaLinsapce),np.log(erreurs))"
   ]
  },
  {
   "cell_type": "code",
   "execution_count": null,
   "metadata": {},
   "outputs": [],
   "source": []
  },
  {
   "cell_type": "code",
   "execution_count": null,
   "metadata": {},
   "outputs": [],
   "source": []
  }
 ],
 "metadata": {
  "anaconda-cloud": {},
  "celltoolbar": "Format de la Cellule Texte Brut",
  "kernelspec": {
   "display_name": "Python 3",
   "language": "python",
   "name": "python3"
  },
  "language_info": {
   "codemirror_mode": {
    "name": "ipython",
    "version": 3
   },
   "file_extension": ".py",
   "mimetype": "text/x-python",
   "name": "python",
   "nbconvert_exporter": "python",
   "pygments_lexer": "ipython3",
   "version": "3.7.4"
  },
  "latex_envs": {
   "LaTeX_envs_menu_present": true,
   "autocomplete": true,
   "bibliofile": "biblio.bib",
   "cite_by": "apalike",
   "current_citInitial": 1,
   "eqLabelWithNumbers": true,
   "eqNumInitial": 1,
   "hotkeys": {
    "equation": "Ctrl-E",
    "itemize": "Ctrl-I"
   },
   "labels_anchors": true,
   "latex_user_defs": false,
   "report_style_numbering": false,
   "user_envs_cfg": true
  },
  "livereveal": {
   "autolaunch": true,
   "footer": "",
   "header": "<h4>M209 - Dynamique des populations</h4>",
   "scroll": true,
   "theme": "sky",
   "transition": "convex"
  },
  "nbpresent": {
   "slides": {
    "1d19efff-ca23-4411-a28d-0acfe8b0a21f": {
     "id": "1d19efff-ca23-4411-a28d-0acfe8b0a21f",
     "prev": null,
     "regions": {
      "ce0660fc-2126-4fc1-af82-924604c460c9": {
       "attrs": {
        "height": 0.8,
        "width": 0.8,
        "x": 0.1,
        "y": 0.1
       },
       "content": {
        "cell": "91de52c2-c2c7-499f-8a66-d7d7201835fa",
        "part": "whole"
       },
       "id": "ce0660fc-2126-4fc1-af82-924604c460c9"
      }
     }
    },
    "4b687039-6844-41e3-a2b7-e4383f0cd404": {
     "id": "4b687039-6844-41e3-a2b7-e4383f0cd404",
     "prev": "1d19efff-ca23-4411-a28d-0acfe8b0a21f",
     "regions": {
      "4d7e4ca1-0dc1-4baa-aee1-858aded88138": {
       "attrs": {
        "height": 0.8,
        "width": 0.8,
        "x": 0.1,
        "y": 0.1
       },
       "content": {
        "cell": "55aff2bb-bdaa-4c5c-ba2e-bbf4e83f63c7",
        "part": "whole"
       },
       "id": "4d7e4ca1-0dc1-4baa-aee1-858aded88138"
      }
     }
    },
    "795524dc-81d3-4604-8482-a4190b0fa9a8": {
     "id": "795524dc-81d3-4604-8482-a4190b0fa9a8",
     "prev": "a7009650-63e6-4dab-b943-fa2793414400",
     "regions": {
      "1681ba9b-a113-47bd-8b3e-4896d7147602": {
       "attrs": {
        "height": 0.8,
        "width": 0.8,
        "x": 0.1,
        "y": 0.1
       },
       "content": {
        "cell": "282cf50f-1e0c-49a9-bad8-342ec14cae5d",
        "part": "whole"
       },
       "id": "1681ba9b-a113-47bd-8b3e-4896d7147602"
      }
     }
    },
    "a7009650-63e6-4dab-b943-fa2793414400": {
     "id": "a7009650-63e6-4dab-b943-fa2793414400",
     "prev": "4b687039-6844-41e3-a2b7-e4383f0cd404",
     "regions": {
      "93073f47-71b4-407a-aca0-816e24070974": {
       "attrs": {
        "height": 0.8,
        "width": 0.8,
        "x": 0.1,
        "y": 0.1
       },
       "content": {
        "cell": "8d57688c-3605-4554-9273-2652b8f7594b",
        "part": "whole"
       },
       "id": "93073f47-71b4-407a-aca0-816e24070974"
      }
     }
    },
    "a94ea374-e922-483e-9643-233609149bf4": {
     "id": "a94ea374-e922-483e-9643-233609149bf4",
     "prev": "c3e8624c-5445-4710-ad30-3caf4bc545d7",
     "regions": {
      "52169aa9-d0f1-4006-96ed-f75c2fb97aa7": {
       "attrs": {
        "height": 0.8,
        "width": 0.8,
        "x": 0.1,
        "y": 0.1
       },
       "content": {
        "cell": "51d5d06f-0c6e-4356-844d-eeba100ee2d4",
        "part": "whole"
       },
       "id": "52169aa9-d0f1-4006-96ed-f75c2fb97aa7"
      }
     }
    },
    "c3e8624c-5445-4710-ad30-3caf4bc545d7": {
     "id": "c3e8624c-5445-4710-ad30-3caf4bc545d7",
     "prev": "795524dc-81d3-4604-8482-a4190b0fa9a8",
     "regions": {
      "38b9f09d-b6e0-4ae7-a8d4-723e567bd7ec": {
       "attrs": {
        "height": 0.8,
        "width": 0.8,
        "x": 0.1,
        "y": 0.1
       },
       "content": {
        "cell": "ef1d8596-ba87-4d96-9bb1-ba6cef56e3aa",
        "part": "whole"
       },
       "id": "38b9f09d-b6e0-4ae7-a8d4-723e567bd7ec"
      }
     }
    },
    "ca7dee26-42ee-4f31-a1ed-3190d08ac48d": {
     "id": "ca7dee26-42ee-4f31-a1ed-3190d08ac48d",
     "prev": "a94ea374-e922-483e-9643-233609149bf4",
     "regions": {
      "1ab5f88b-0f70-4a57-854f-94e18e52fc1f": {
       "attrs": {
        "height": 0.8,
        "width": 0.8,
        "x": 0.1,
        "y": 0.1
       },
       "content": {
        "cell": "89cc9dc9-641a-42c3-b837-f41662e6d399",
        "part": "whole"
       },
       "id": "1ab5f88b-0f70-4a57-854f-94e18e52fc1f"
      }
     }
    }
   },
   "themes": {
    "default": "132562bd-29cc-4ad2-afd0-604b8efa68b3",
    "theme": {}
   }
  },
  "widgets": {
   "state": {
    "42bfba21ec824ea2abaa4537c857de48": {
     "views": [
      {
       "cell_index": 3
      }
     ]
    },
    "69e2f1e5d30e4d6db5ddbca6d62a747f": {
     "views": [
      {
       "cell_index": 3
      }
     ]
    },
    "d3e34dfcdbcd425d9d10d77fd1c2ae84": {
     "views": [
      {
       "cell_index": 3
      }
     ]
    }
   },
   "version": "1.2.0"
  }
 },
 "nbformat": 4,
 "nbformat_minor": 4
}
